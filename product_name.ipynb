{
 "cells": [
  {
   "cell_type": "code",
   "execution_count": 1,
   "metadata": {},
   "outputs": [],
   "source": [
    "import requests\n",
    "from bs4 import BeautifulSoup\n",
    "from fake_useragent import UserAgent\n",
    "\n"
   ]
  },
  {
   "cell_type": "code",
   "execution_count": 3,
   "metadata": {},
   "outputs": [],
   "source": [
    "url= \"http://www.consumerreports.org/cro/a-to-z-index/products/index.htm\"\n",
    "file_name= \"product_name.txt\"\n",
    "ua= UserAgent()\n",
    "\n",
    "page= requests.get(url, headers= {\"user-agent\": ua.chrome})\n",
    "\n",
    "with open(file_name, \"w\") as file:\n",
    "    file.write(page.content.decode(\"utf-8\")) if type(page.content)== bytes else file.write(page.content)"
   ]
  },
  {
   "cell_type": "code",
   "execution_count": 16,
   "metadata": {},
   "outputs": [
    {
     "name": "stdout",
     "output_type": "stream",
     "text": [
      "[]\n",
      "[]\n"
     ]
    }
   ],
   "source": [
    "def read_file():\n",
    "    file= open(\"product_name.txt\")\n",
    "    data= file.read()\n",
    "    file.close()\n",
    "    return data\n",
    "\n",
    "soup= BeautifulSoup(read_file(), \"html.parser\")\n",
    "\n",
    "all_divs= soup.find_all(\"div\", attrs={\"class\": \"entry-letter\"})\n",
    "print(all_divs)\n",
    "\n",
    "product= [div.div.a.span.string for div in all_divs]\n",
    "    \n",
    "print (product)"
   ]
  },
  {
   "cell_type": "code",
   "execution_count": null,
   "metadata": {},
   "outputs": [],
   "source": []
  }
 ],
 "metadata": {
  "kernelspec": {
   "display_name": "Python 3",
   "language": "python",
   "name": "python3"
  },
  "language_info": {
   "codemirror_mode": {
    "name": "ipython",
    "version": 3
   },
   "file_extension": ".py",
   "mimetype": "text/x-python",
   "name": "python",
   "nbconvert_exporter": "python",
   "pygments_lexer": "ipython3",
   "version": "3.6.7"
  }
 },
 "nbformat": 4,
 "nbformat_minor": 2
}
